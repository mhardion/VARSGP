{
  "nbformat": 4,
  "nbformat_minor": 0,
  "metadata": {
    "colab": {
      "provenance": [],
      "gpuType": "T4"
    },
    "kernelspec": {
      "name": "python3",
      "display_name": "Python 3"
    },
    "language_info": {
      "name": "python"
    },
    "accelerator": "GPU"
  },
  "cells": [
    {
      "cell_type": "markdown",
      "source": [
        "# Large-scale variational sparse GP\n",
        "_Author: Mathis Hardion_"
      ],
      "metadata": {
        "id": "_epcbEE5GeEo"
      }
    },
    {
      "cell_type": "code",
      "execution_count": 1,
      "metadata": {
        "id": "VBT5ecuh-uTi"
      },
      "outputs": [],
      "source": [
        "# Imports\n",
        "import numpy as np\n",
        "import torch\n",
        "import gpytorch\n",
        "import matplotlib.pyplot as plt\n",
        "import pandas as pd\n",
        "from scipy.io import loadmat\n",
        "from torch.utils.data import TensorDataset, DataLoader\n",
        "from gpytorch.models import ApproximateGP, ExactGP\n",
        "from gpytorch.variational import CholeskyVariationalDistribution\n",
        "from gpytorch.variational import VariationalStrategy\n",
        "from sklearn import linear_model, ensemble\n",
        "from sklearn.model_selection import train_test_split\n",
        "from ucimlrepo import fetch_ucirepo\n",
        "\n",
        "# Device\n",
        "device = torch.device(\"cuda\" if torch.cuda.is_available() else \"cpu\")\n",
        "\n",
        "# Reproducibility\n",
        "rng = torch.manual_seed(0)"
      ]
    },
    {
      "cell_type": "code",
      "source": [
        "# Helpers\n",
        "def standardize(X_train, X_test, y_train, y_test):\n",
        "    if type(X_train) == torch.Tensor:\n",
        "        sqrt = torch.sqrt\n",
        "    else:\n",
        "        sqrt = np.sqrt\n",
        "    X_mean, X_std = X_train.mean(0), sqrt(X_train.var(0))\n",
        "    y_mean, y_std = y_train.mean(), sqrt(y_train.var())\n",
        "    y_train -= y_mean\n",
        "    y_test -= y_mean\n",
        "    return ((X_train - X_mean[None,:])/X_std[None,:],\n",
        "            (X_test - X_mean[None,:])/X_std[None,:],\n",
        "            (y_train - y_mean)/y_std,\n",
        "            (y_test - y_mean)/y_std)\n",
        "\n",
        "def SMSE(y_pred, y_test):\n",
        "    return (((y_test-y_pred)**2).mean()/y_test.var()).item()\n",
        "\n",
        "def to_tensors(*arrays, **kwargs):\n",
        "    return [torch.tensor(a, **kwargs) for a in arrays]\n",
        "\n",
        "def test_sklearn_estimators(X_train, X_test, y_train, y_test, estimators):\n",
        "    results = pd.DataFrame(index=[\"SMSE\"])\n",
        "    for est in estimators:\n",
        "        est.fit(X_train, y_train)\n",
        "        y_pred = est.predict(X_test)\n",
        "        results[type(est).__name__] = SMSE(y_pred, y_test)\n",
        "    return results"
      ],
      "metadata": {
        "id": "JocmRGpu9DrK"
      },
      "execution_count": 2,
      "outputs": []
    },
    {
      "cell_type": "markdown",
      "source": [
        "## Sarcos_inv dataset"
      ],
      "metadata": {
        "id": "MP-gPb0ymGMf"
      }
    },
    {
      "cell_type": "code",
      "source": [
        "sarcos_train = loadmat('data/sarcos_inv.mat')['sarcos_inv']\n",
        "X_train, y_train = sarcos_train[:, :21], sarcos_train[:,21]\n",
        "sarcos_test = loadmat('data/sarcos_inv_test.mat')['sarcos_inv_test']\n",
        "X_test, y_test = sarcos_test[:, :21], sarcos_test[:,21]"
      ],
      "metadata": {
        "id": "oWWBLOJ4QCVs"
      },
      "execution_count": 3,
      "outputs": []
    },
    {
      "cell_type": "code",
      "source": [
        "X_train, X_test, y_train, y_test = standardize(X_train, X_test, y_train, y_test)"
      ],
      "metadata": {
        "id": "2PZ_CAV2xITn"
      },
      "execution_count": 4,
      "outputs": []
    },
    {
      "cell_type": "code",
      "source": [
        "estimators = [linear_model.LinearRegression(), ensemble.HistGradientBoostingRegressor()]\n",
        "results = test_sklearn_estimators(X_train, X_test, y_train, y_test, estimators)\n",
        "results"
      ],
      "metadata": {
        "id": "gDwlGeqO_5N5",
        "colab": {
          "base_uri": "https://localhost:8080/",
          "height": 81
        },
        "outputId": "90f9e850-d2dc-4c89-fc76-7ae9e8468d3b"
      },
      "execution_count": 5,
      "outputs": [
        {
          "output_type": "execute_result",
          "data": {
            "text/plain": [
              "      LinearRegression  HistGradientBoostingRegressor\n",
              "SMSE          0.075054                       0.025795"
            ],
            "text/html": [
              "\n",
              "  <div id=\"df-dc53246f-97c0-4668-9bc3-485c173d4347\" class=\"colab-df-container\">\n",
              "    <div>\n",
              "<style scoped>\n",
              "    .dataframe tbody tr th:only-of-type {\n",
              "        vertical-align: middle;\n",
              "    }\n",
              "\n",
              "    .dataframe tbody tr th {\n",
              "        vertical-align: top;\n",
              "    }\n",
              "\n",
              "    .dataframe thead th {\n",
              "        text-align: right;\n",
              "    }\n",
              "</style>\n",
              "<table border=\"1\" class=\"dataframe\">\n",
              "  <thead>\n",
              "    <tr style=\"text-align: right;\">\n",
              "      <th></th>\n",
              "      <th>LinearRegression</th>\n",
              "      <th>HistGradientBoostingRegressor</th>\n",
              "    </tr>\n",
              "  </thead>\n",
              "  <tbody>\n",
              "    <tr>\n",
              "      <th>SMSE</th>\n",
              "      <td>0.075054</td>\n",
              "      <td>0.025795</td>\n",
              "    </tr>\n",
              "  </tbody>\n",
              "</table>\n",
              "</div>\n",
              "    <div class=\"colab-df-buttons\">\n",
              "\n",
              "  <div class=\"colab-df-container\">\n",
              "    <button class=\"colab-df-convert\" onclick=\"convertToInteractive('df-dc53246f-97c0-4668-9bc3-485c173d4347')\"\n",
              "            title=\"Convert this dataframe to an interactive table.\"\n",
              "            style=\"display:none;\">\n",
              "\n",
              "  <svg xmlns=\"http://www.w3.org/2000/svg\" height=\"24px\" viewBox=\"0 -960 960 960\">\n",
              "    <path d=\"M120-120v-720h720v720H120Zm60-500h600v-160H180v160Zm220 220h160v-160H400v160Zm0 220h160v-160H400v160ZM180-400h160v-160H180v160Zm440 0h160v-160H620v160ZM180-180h160v-160H180v160Zm440 0h160v-160H620v160Z\"/>\n",
              "  </svg>\n",
              "    </button>\n",
              "\n",
              "  <style>\n",
              "    .colab-df-container {\n",
              "      display:flex;\n",
              "      gap: 12px;\n",
              "    }\n",
              "\n",
              "    .colab-df-convert {\n",
              "      background-color: #E8F0FE;\n",
              "      border: none;\n",
              "      border-radius: 50%;\n",
              "      cursor: pointer;\n",
              "      display: none;\n",
              "      fill: #1967D2;\n",
              "      height: 32px;\n",
              "      padding: 0 0 0 0;\n",
              "      width: 32px;\n",
              "    }\n",
              "\n",
              "    .colab-df-convert:hover {\n",
              "      background-color: #E2EBFA;\n",
              "      box-shadow: 0px 1px 2px rgba(60, 64, 67, 0.3), 0px 1px 3px 1px rgba(60, 64, 67, 0.15);\n",
              "      fill: #174EA6;\n",
              "    }\n",
              "\n",
              "    .colab-df-buttons div {\n",
              "      margin-bottom: 4px;\n",
              "    }\n",
              "\n",
              "    [theme=dark] .colab-df-convert {\n",
              "      background-color: #3B4455;\n",
              "      fill: #D2E3FC;\n",
              "    }\n",
              "\n",
              "    [theme=dark] .colab-df-convert:hover {\n",
              "      background-color: #434B5C;\n",
              "      box-shadow: 0px 1px 3px 1px rgba(0, 0, 0, 0.15);\n",
              "      filter: drop-shadow(0px 1px 2px rgba(0, 0, 0, 0.3));\n",
              "      fill: #FFFFFF;\n",
              "    }\n",
              "  </style>\n",
              "\n",
              "    <script>\n",
              "      const buttonEl =\n",
              "        document.querySelector('#df-dc53246f-97c0-4668-9bc3-485c173d4347 button.colab-df-convert');\n",
              "      buttonEl.style.display =\n",
              "        google.colab.kernel.accessAllowed ? 'block' : 'none';\n",
              "\n",
              "      async function convertToInteractive(key) {\n",
              "        const element = document.querySelector('#df-dc53246f-97c0-4668-9bc3-485c173d4347');\n",
              "        const dataTable =\n",
              "          await google.colab.kernel.invokeFunction('convertToInteractive',\n",
              "                                                    [key], {});\n",
              "        if (!dataTable) return;\n",
              "\n",
              "        const docLinkHtml = 'Like what you see? Visit the ' +\n",
              "          '<a target=\"_blank\" href=https://colab.research.google.com/notebooks/data_table.ipynb>data table notebook</a>'\n",
              "          + ' to learn more about interactive tables.';\n",
              "        element.innerHTML = '';\n",
              "        dataTable['output_type'] = 'display_data';\n",
              "        await google.colab.output.renderOutput(dataTable, element);\n",
              "        const docLink = document.createElement('div');\n",
              "        docLink.innerHTML = docLinkHtml;\n",
              "        element.appendChild(docLink);\n",
              "      }\n",
              "    </script>\n",
              "  </div>\n",
              "\n",
              "    </div>\n",
              "  </div>\n"
            ],
            "application/vnd.google.colaboratory.intrinsic+json": {
              "type": "dataframe",
              "variable_name": "results",
              "summary": "{\n  \"name\": \"results\",\n  \"rows\": 1,\n  \"fields\": [\n    {\n      \"column\": \"LinearRegression\",\n      \"properties\": {\n        \"dtype\": \"number\",\n        \"std\": null,\n        \"min\": 0.07505418172857713,\n        \"max\": 0.07505418172857713,\n        \"num_unique_values\": 1,\n        \"samples\": [\n          0.07505418172857713\n        ],\n        \"semantic_type\": \"\",\n        \"description\": \"\"\n      }\n    },\n    {\n      \"column\": \"HistGradientBoostingRegressor\",\n      \"properties\": {\n        \"dtype\": \"number\",\n        \"std\": null,\n        \"min\": 0.02579463632528447,\n        \"max\": 0.02579463632528447,\n        \"num_unique_values\": 1,\n        \"samples\": [\n          0.02579463632528447\n        ],\n        \"semantic_type\": \"\",\n        \"description\": \"\"\n      }\n    }\n  ]\n}"
            }
          },
          "metadata": {},
          "execution_count": 5
        }
      ]
    },
    {
      "cell_type": "code",
      "source": [
        "X_train, X_test, y_train, y_test = to_tensors(X_train, X_test, y_train, y_test, device=device)"
      ],
      "metadata": {
        "id": "JFR6XWWAw-73"
      },
      "execution_count": 6,
      "outputs": []
    },
    {
      "cell_type": "code",
      "source": [
        "train_dataset = TensorDataset(X_train, y_train)\n",
        "train_loader = DataLoader(train_dataset, batch_size=1024, shuffle=True)"
      ],
      "metadata": {
        "id": "W_sIh7x93KVn"
      },
      "execution_count": 7,
      "outputs": []
    },
    {
      "cell_type": "code",
      "source": [
        "# SGP\n",
        "class VARSGP(ExactGP):\n",
        "    def __init__(self, train_x, train_y, n_inducing, likelihood=None):\n",
        "        if likelihood is None:\n",
        "            likelihood = gpytorch.likelihoods.GaussianLikelihood()\n",
        "        super(VARSGP, self).__init__(train_x, train_y, likelihood)\n",
        "        self.mean_module = gpytorch.means.ConstantMean()\n",
        "        self.base_covar_module = gpytorch.kernels.ScaleKernel(gpytorch.kernels.RBFKernel())\n",
        "        self.covar_module = gpytorch.kernels.InducingPointKernel(self.base_covar_module, inducing_points=train_x[:n_inducing, :], likelihood=likelihood)\n",
        "        self.register_added_loss_term('titsias_term')\n",
        "\n",
        "    def to(self, device):\n",
        "        if device.type == 'cuda':\n",
        "            return self.cuda()\n",
        "        return self\n",
        "\n",
        "    def forward(self, x):\n",
        "        mean_x = self.mean_module(x)\n",
        "        covar_x = self.covar_module(x)\n",
        "        self.update_added_loss_term(\"titsias_term\", gpytorch.mlls.InducingPointKernelAddedLossTerm(gpytorch.distributions.MultivariateNormal(0*mean_x, self.base_covar_module(x)), gpytorch.distributions.MultivariateNormal(0*mean_x, covar_x), self.likelihood))\n",
        "        return gpytorch.distributions.MultivariateNormal(mean_x, covar_x)\n",
        "\n",
        "    def fit(self, n_iter=500, optimizer=torch.optim.Adam, plot=True, print_every=10, **kwargs):\n",
        "        self.train()\n",
        "        opt = optimizer(self.parameters(), **kwargs)\n",
        "        mll = gpytorch.mlls.ExactMarginalLogLikelihood(self.likelihood, self)\n",
        "        if plot:\n",
        "            losses = []\n",
        "        for i in range(n_iter):\n",
        "            opt.zero_grad()\n",
        "            loss = -mll(model(X_train), y_train)\n",
        "            loss.backward()\n",
        "            opt.step()\n",
        "            if plot:\n",
        "                losses.append(loss.item())\n",
        "            if print_every and not ((i+1)%print_every):\n",
        "                print(f\"Iteration {i+1}/{n_iter} - loss = {loss.item()}\")\n",
        "        if plot:\n",
        "            plt.plot(losses)\n",
        "            plt.title(\"Negative MLL over iterations\")\n",
        "            plt.show()\n",
        "\n",
        "    def predict(self, X_test):\n",
        "        model.eval()\n",
        "        with torch.no_grad():\n",
        "            return self.likelihood(model(X_test)).mean"
      ],
      "metadata": {
        "id": "00OzT22l3y6p"
      },
      "execution_count": 8,
      "outputs": []
    },
    {
      "cell_type": "code",
      "source": [
        "model = VARSGP(X_train, y_train, 50).to(device)\n",
        "model.fit(lr=.01)"
      ],
      "metadata": {
        "id": "kedNXV_C4EAm",
        "colab": {
          "base_uri": "https://localhost:8080/",
          "height": 1000
        },
        "outputId": "9ca7d3e6-8c93-4d5c-a780-4cd9f3ca479b"
      },
      "execution_count": 9,
      "outputs": [
        {
          "output_type": "stream",
          "name": "stdout",
          "text": [
            "Iteration 10/500 - loss = 2.519809823575926\n",
            "Iteration 20/500 - loss = 2.309392849368191\n",
            "Iteration 30/500 - loss = 2.143176110149478\n",
            "Iteration 40/500 - loss = 2.013079964520631\n",
            "Iteration 50/500 - loss = 1.9111545954347071\n",
            "Iteration 60/500 - loss = 1.82839227521425\n",
            "Iteration 70/500 - loss = 1.7586615160935377\n",
            "Iteration 80/500 - loss = 1.6934787029623224\n",
            "Iteration 90/500 - loss = 1.629235581630492\n",
            "Iteration 100/500 - loss = 1.566271076156969\n",
            "Iteration 110/500 - loss = 1.5066524522184752\n",
            "Iteration 120/500 - loss = 1.4497046339834845\n",
            "Iteration 130/500 - loss = 1.3932887710050945\n",
            "Iteration 140/500 - loss = 1.3380717214284343\n",
            "Iteration 150/500 - loss = 1.2878341896453869\n",
            "Iteration 160/500 - loss = 1.2436269447314134\n",
            "Iteration 170/500 - loss = 1.2043488293900904\n",
            "Iteration 180/500 - loss = 1.169092776752762\n",
            "Iteration 190/500 - loss = 1.1373148498037347\n",
            "Iteration 200/500 - loss = 1.1069740117811524\n",
            "Iteration 210/500 - loss = 1.0781498271444583\n",
            "Iteration 220/500 - loss = 1.0497438565636885\n",
            "Iteration 230/500 - loss = 1.0215485402491087\n",
            "Iteration 240/500 - loss = 0.9932609377342319\n",
            "Iteration 250/500 - loss = 0.9649365236959984\n",
            "Iteration 260/500 - loss = 0.9362964154713349\n",
            "Iteration 270/500 - loss = 0.9071622645905584\n",
            "Iteration 280/500 - loss = 0.8773985446538275\n",
            "Iteration 290/500 - loss = 0.8477612933544637\n",
            "Iteration 300/500 - loss = 0.8163357313767015\n",
            "Iteration 310/500 - loss = 0.7850611741573511\n",
            "Iteration 320/500 - loss = 0.7533892381352941\n",
            "Iteration 330/500 - loss = 0.7209753969057238\n",
            "Iteration 340/500 - loss = 0.6886374165120623\n",
            "Iteration 350/500 - loss = 0.6548381172480108\n",
            "Iteration 360/500 - loss = 0.6211924496240053\n",
            "Iteration 370/500 - loss = 0.5871916803521444\n",
            "Iteration 380/500 - loss = 0.5526123390852372\n",
            "Iteration 390/500 - loss = 0.5186440719074842\n",
            "Iteration 400/500 - loss = 0.48547159044386645\n",
            "Iteration 410/500 - loss = 0.4501613112269856\n",
            "Iteration 420/500 - loss = 0.4161711496855719\n",
            "Iteration 430/500 - loss = 0.3827494020379842\n",
            "Iteration 440/500 - loss = 0.3499072532686873\n",
            "Iteration 450/500 - loss = 0.31770012732449054\n",
            "Iteration 460/500 - loss = 0.28549934419812106\n",
            "Iteration 470/500 - loss = 0.2557548781253328\n",
            "Iteration 480/500 - loss = 0.22849660201969696\n",
            "Iteration 490/500 - loss = 0.19785631446026075\n",
            "Iteration 500/500 - loss = 0.16972534843688597\n"
          ]
        },
        {
          "output_type": "display_data",
          "data": {
            "text/plain": [
              "<Figure size 640x480 with 1 Axes>"
            ],
            "image/png": "[encoded data removed]"
          },
          "metadata": {}
        }
      ]
    },
    {
      "cell_type": "code",
      "source": [
        "y_pred = model.predict(X_test)\n",
        "results['SGP'] = SMSE(y_pred, y_test)\n",
        "results"
      ],
      "metadata": {
        "colab": {
          "base_uri": "https://localhost:8080/",
          "height": 81
        },
        "id": "MwXhuUzV5NPg",
        "outputId": "22cdc13a-333c-4bd4-eac6-c148bde2ce15"
      },
      "execution_count": 10,
      "outputs": [
        {
          "output_type": "execute_result",
          "data": {
            "text/plain": [
              "      LinearRegression  HistGradientBoostingRegressor       SGP\n",
              "SMSE          0.075054                       0.025795  0.033671"
            ],
            "text/html": [
              "\n",
              "  <div id=\"df-40bd46db-f08b-443f-bbd7-66bd7726f0c2\" class=\"colab-df-container\">\n",
              "    <div>\n",
              "<style scoped>\n",
              "    .dataframe tbody tr th:only-of-type {\n",
              "        vertical-align: middle;\n",
              "    }\n",
              "\n",
              "    .dataframe tbody tr th {\n",
              "        vertical-align: top;\n",
              "    }\n",
              "\n",
              "    .dataframe thead th {\n",
              "        text-align: right;\n",
              "    }\n",
              "</style>\n",
              "<table border=\"1\" class=\"dataframe\">\n",
              "  <thead>\n",
              "    <tr style=\"text-align: right;\">\n",
              "      <th></th>\n",
              "      <th>LinearRegression</th>\n",
              "      <th>HistGradientBoostingRegressor</th>\n",
              "      <th>SGP</th>\n",
              "    </tr>\n",
              "  </thead>\n",
              "  <tbody>\n",
              "    <tr>\n",
              "      <th>SMSE</th>\n",
              "      <td>0.075054</td>\n",
              "      <td>0.025795</td>\n",
              "      <td>0.033671</td>\n",
              "    </tr>\n",
              "  </tbody>\n",
              "</table>\n",
              "</div>\n",
              "    <div class=\"colab-df-buttons\">\n",
              "\n",
              "  <div class=\"colab-df-container\">\n",
              "    <button class=\"colab-df-convert\" onclick=\"convertToInteractive('df-40bd46db-f08b-443f-bbd7-66bd7726f0c2')\"\n",
              "            title=\"Convert this dataframe to an interactive table.\"\n",
              "            style=\"display:none;\">\n",
              "\n",
              "  <svg xmlns=\"http://www.w3.org/2000/svg\" height=\"24px\" viewBox=\"0 -960 960 960\">\n",
              "    <path d=\"M120-120v-720h720v720H120Zm60-500h600v-160H180v160Zm220 220h160v-160H400v160Zm0 220h160v-160H400v160ZM180-400h160v-160H180v160Zm440 0h160v-160H620v160ZM180-180h160v-160H180v160Zm440 0h160v-160H620v160Z\"/>\n",
              "  </svg>\n",
              "    </button>\n",
              "\n",
              "  <style>\n",
              "    .colab-df-container {\n",
              "      display:flex;\n",
              "      gap: 12px;\n",
              "    }\n",
              "\n",
              "    .colab-df-convert {\n",
              "      background-color: #E8F0FE;\n",
              "      border: none;\n",
              "      border-radius: 50%;\n",
              "      cursor: pointer;\n",
              "      display: none;\n",
              "      fill: #1967D2;\n",
              "      height: 32px;\n",
              "      padding: 0 0 0 0;\n",
              "      width: 32px;\n",
              "    }\n",
              "\n",
              "    .colab-df-convert:hover {\n",
              "      background-color: #E2EBFA;\n",
              "      box-shadow: 0px 1px 2px rgba(60, 64, 67, 0.3), 0px 1px 3px 1px rgba(60, 64, 67, 0.15);\n",
              "      fill: #174EA6;\n",
              "    }\n",
              "\n",
              "    .colab-df-buttons div {\n",
              "      margin-bottom: 4px;\n",
              "    }\n",
              "\n",
              "    [theme=dark] .colab-df-convert {\n",
              "      background-color: #3B4455;\n",
              "      fill: #D2E3FC;\n",
              "    }\n",
              "\n",
              "    [theme=dark] .colab-df-convert:hover {\n",
              "      background-color: #434B5C;\n",
              "      box-shadow: 0px 1px 3px 1px rgba(0, 0, 0, 0.15);\n",
              "      filter: drop-shadow(0px 1px 2px rgba(0, 0, 0, 0.3));\n",
              "      fill: #FFFFFF;\n",
              "    }\n",
              "  </style>\n",
              "\n",
              "    <script>\n",
              "      const buttonEl =\n",
              "        document.querySelector('#df-40bd46db-f08b-443f-bbd7-66bd7726f0c2 button.colab-df-convert');\n",
              "      buttonEl.style.display =\n",
              "        google.colab.kernel.accessAllowed ? 'block' : 'none';\n",
              "\n",
              "      async function convertToInteractive(key) {\n",
              "        const element = document.querySelector('#df-40bd46db-f08b-443f-bbd7-66bd7726f0c2');\n",
              "        const dataTable =\n",
              "          await google.colab.kernel.invokeFunction('convertToInteractive',\n",
              "                                                    [key], {});\n",
              "        if (!dataTable) return;\n",
              "\n",
              "        const docLinkHtml = 'Like what you see? Visit the ' +\n",
              "          '<a target=\"_blank\" href=https://colab.research.google.com/notebooks/data_table.ipynb>data table notebook</a>'\n",
              "          + ' to learn more about interactive tables.';\n",
              "        element.innerHTML = '';\n",
              "        dataTable['output_type'] = 'display_data';\n",
              "        await google.colab.output.renderOutput(dataTable, element);\n",
              "        const docLink = document.createElement('div');\n",
              "        docLink.innerHTML = docLinkHtml;\n",
              "        element.appendChild(docLink);\n",
              "      }\n",
              "    </script>\n",
              "  </div>\n",
              "\n",
              "    </div>\n",
              "  </div>\n"
            ],
            "application/vnd.google.colaboratory.intrinsic+json": {
              "type": "dataframe",
              "variable_name": "results",
              "summary": "{\n  \"name\": \"results\",\n  \"rows\": 1,\n  \"fields\": [\n    {\n      \"column\": \"LinearRegression\",\n      \"properties\": {\n        \"dtype\": \"number\",\n        \"std\": null,\n        \"min\": 0.07505418172857713,\n        \"max\": 0.07505418172857713,\n        \"num_unique_values\": 1,\n        \"samples\": [\n          0.07505418172857713\n        ],\n        \"semantic_type\": \"\",\n        \"description\": \"\"\n      }\n    },\n    {\n      \"column\": \"HistGradientBoostingRegressor\",\n      \"properties\": {\n        \"dtype\": \"number\",\n        \"std\": null,\n        \"min\": 0.02579463632528447,\n        \"max\": 0.02579463632528447,\n        \"num_unique_values\": 1,\n        \"samples\": [\n          0.02579463632528447\n        ],\n        \"semantic_type\": \"\",\n        \"description\": \"\"\n      }\n    },\n    {\n      \"column\": \"SGP\",\n      \"properties\": {\n        \"dtype\": \"number\",\n        \"std\": null,\n        \"min\": 0.03367072940602101,\n        \"max\": 0.03367072940602101,\n        \"num_unique_values\": 1,\n        \"samples\": [\n          0.03367072940602101\n        ],\n        \"semantic_type\": \"\",\n        \"description\": \"\"\n      }\n    }\n  ]\n}"
            }
          },
          "metadata": {},
          "execution_count": 10
        }
      ]
    },
    {
      "cell_type": "markdown",
      "source": [
        "## Abalone dataset"
      ],
      "metadata": {
        "id": "rZZVc8T6mLGA"
      }
    },
    {
      "cell_type": "code",
      "source": [
        "# fetch dataset\n",
        "abalone = fetch_ucirepo(id=1)\n",
        "\n",
        "# data (as pandas dataframes)\n",
        "X = abalone.data.features.iloc[:,1:].to_numpy()\n",
        "y = abalone.data.targets.to_numpy().flatten().astype(float)"
      ],
      "metadata": {
        "id": "Kudfl-MHNEmy"
      },
      "execution_count": 11,
      "outputs": []
    },
    {
      "cell_type": "code",
      "source": [
        "X_train, X_test, y_train, y_test = train_test_split(X, y)\n",
        "X_train, X_test, y_train, y_test = standardize(X_train, X_test, y_train, y_test)"
      ],
      "metadata": {
        "id": "0SyTaogmNPQV"
      },
      "execution_count": 12,
      "outputs": []
    },
    {
      "cell_type": "code",
      "source": [
        "estimators = [linear_model.LinearRegression(), ensemble.HistGradientBoostingRegressor(max_iter=1000)]\n",
        "results = test_sklearn_estimators(X_train, X_test, y_train, y_test, estimators)\n",
        "results"
      ],
      "metadata": {
        "id": "kWp0INeyOAOH",
        "colab": {
          "base_uri": "https://localhost:8080/",
          "height": 81
        },
        "outputId": "89385e87-9f45-498a-ad4e-bf66b6758878"
      },
      "execution_count": 13,
      "outputs": [
        {
          "output_type": "execute_result",
          "data": {
            "text/plain": [
              "      LinearRegression  HistGradientBoostingRegressor\n",
              "SMSE          0.477802                       0.574448"
            ],
            "text/html": [
              "\n",
              "  <div id=\"df-e7a02684-4c6a-4ccd-b00e-b085fb750279\" class=\"colab-df-container\">\n",
              "    <div>\n",
              "<style scoped>\n",
              "    .dataframe tbody tr th:only-of-type {\n",
              "        vertical-align: middle;\n",
              "    }\n",
              "\n",
              "    .dataframe tbody tr th {\n",
              "        vertical-align: top;\n",
              "    }\n",
              "\n",
              "    .dataframe thead th {\n",
              "        text-align: right;\n",
              "    }\n",
              "</style>\n",
              "<table border=\"1\" class=\"dataframe\">\n",
              "  <thead>\n",
              "    <tr style=\"text-align: right;\">\n",
              "      <th></th>\n",
              "      <th>LinearRegression</th>\n",
              "      <th>HistGradientBoostingRegressor</th>\n",
              "    </tr>\n",
              "  </thead>\n",
              "  <tbody>\n",
              "    <tr>\n",
              "      <th>SMSE</th>\n",
              "      <td>0.477802</td>\n",
              "      <td>0.574448</td>\n",
              "    </tr>\n",
              "  </tbody>\n",
              "</table>\n",
              "</div>\n",
              "    <div class=\"colab-df-buttons\">\n",
              "\n",
              "  <div class=\"colab-df-container\">\n",
              "    <button class=\"colab-df-convert\" onclick=\"convertToInteractive('df-e7a02684-4c6a-4ccd-b00e-b085fb750279')\"\n",
              "            title=\"Convert this dataframe to an interactive table.\"\n",
              "            style=\"display:none;\">\n",
              "\n",
              "  <svg xmlns=\"http://www.w3.org/2000/svg\" height=\"24px\" viewBox=\"0 -960 960 960\">\n",
              "    <path d=\"M120-120v-720h720v720H120Zm60-500h600v-160H180v160Zm220 220h160v-160H400v160Zm0 220h160v-160H400v160ZM180-400h160v-160H180v160Zm440 0h160v-160H620v160ZM180-180h160v-160H180v160Zm440 0h160v-160H620v160Z\"/>\n",
              "  </svg>\n",
              "    </button>\n",
              "\n",
              "  <style>\n",
              "    .colab-df-container {\n",
              "      display:flex;\n",
              "      gap: 12px;\n",
              "    }\n",
              "\n",
              "    .colab-df-convert {\n",
              "      background-color: #E8F0FE;\n",
              "      border: none;\n",
              "      border-radius: 50%;\n",
              "      cursor: pointer;\n",
              "      display: none;\n",
              "      fill: #1967D2;\n",
              "      height: 32px;\n",
              "      padding: 0 0 0 0;\n",
              "      width: 32px;\n",
              "    }\n",
              "\n",
              "    .colab-df-convert:hover {\n",
              "      background-color: #E2EBFA;\n",
              "      box-shadow: 0px 1px 2px rgba(60, 64, 67, 0.3), 0px 1px 3px 1px rgba(60, 64, 67, 0.15);\n",
              "      fill: #174EA6;\n",
              "    }\n",
              "\n",
              "    .colab-df-buttons div {\n",
              "      margin-bottom: 4px;\n",
              "    }\n",
              "\n",
              "    [theme=dark] .colab-df-convert {\n",
              "      background-color: #3B4455;\n",
              "      fill: #D2E3FC;\n",
              "    }\n",
              "\n",
              "    [theme=dark] .colab-df-convert:hover {\n",
              "      background-color: #434B5C;\n",
              "      box-shadow: 0px 1px 3px 1px rgba(0, 0, 0, 0.15);\n",
              "      filter: drop-shadow(0px 1px 2px rgba(0, 0, 0, 0.3));\n",
              "      fill: #FFFFFF;\n",
              "    }\n",
              "  </style>\n",
              "\n",
              "    <script>\n",
              "      const buttonEl =\n",
              "        document.querySelector('#df-e7a02684-4c6a-4ccd-b00e-b085fb750279 button.colab-df-convert');\n",
              "      buttonEl.style.display =\n",
              "        google.colab.kernel.accessAllowed ? 'block' : 'none';\n",
              "\n",
              "      async function convertToInteractive(key) {\n",
              "        const element = document.querySelector('#df-e7a02684-4c6a-4ccd-b00e-b085fb750279');\n",
              "        const dataTable =\n",
              "          await google.colab.kernel.invokeFunction('convertToInteractive',\n",
              "                                                    [key], {});\n",
              "        if (!dataTable) return;\n",
              "\n",
              "        const docLinkHtml = 'Like what you see? Visit the ' +\n",
              "          '<a target=\"_blank\" href=https://colab.research.google.com/notebooks/data_table.ipynb>data table notebook</a>'\n",
              "          + ' to learn more about interactive tables.';\n",
              "        element.innerHTML = '';\n",
              "        dataTable['output_type'] = 'display_data';\n",
              "        await google.colab.output.renderOutput(dataTable, element);\n",
              "        const docLink = document.createElement('div');\n",
              "        docLink.innerHTML = docLinkHtml;\n",
              "        element.appendChild(docLink);\n",
              "      }\n",
              "    </script>\n",
              "  </div>\n",
              "\n",
              "    </div>\n",
              "  </div>\n"
            ],
            "application/vnd.google.colaboratory.intrinsic+json": {
              "type": "dataframe",
              "variable_name": "results",
              "summary": "{\n  \"name\": \"results\",\n  \"rows\": 1,\n  \"fields\": [\n    {\n      \"column\": \"LinearRegression\",\n      \"properties\": {\n        \"dtype\": \"number\",\n        \"std\": null,\n        \"min\": 0.47780169977013126,\n        \"max\": 0.47780169977013126,\n        \"num_unique_values\": 1,\n        \"samples\": [\n          0.47780169977013126\n        ],\n        \"semantic_type\": \"\",\n        \"description\": \"\"\n      }\n    },\n    {\n      \"column\": \"HistGradientBoostingRegressor\",\n      \"properties\": {\n        \"dtype\": \"number\",\n        \"std\": null,\n        \"min\": 0.5744479997066854,\n        \"max\": 0.5744479997066854,\n        \"num_unique_values\": 1,\n        \"samples\": [\n          0.5744479997066854\n        ],\n        \"semantic_type\": \"\",\n        \"description\": \"\"\n      }\n    }\n  ]\n}"
            }
          },
          "metadata": {},
          "execution_count": 13
        }
      ]
    },
    {
      "cell_type": "code",
      "source": [
        "X_train, X_test, y_train, y_test = to_tensors(X_train, X_test, y_train, y_test, device=device)\n",
        "model = VARSGP(X_train, y_train, 50).to(device)\n",
        "model.fit(lr=.01)"
      ],
      "metadata": {
        "colab": {
          "base_uri": "https://localhost:8080/",
          "height": 1000
        },
        "id": "Bsp4xMYDfIhr",
        "outputId": "9bb891d7-1e12-46c8-fb90-74e3374b72ca"
      },
      "execution_count": 14,
      "outputs": [
        {
          "output_type": "stream",
          "name": "stdout",
          "text": [
            "Iteration 10/500 - loss = 1.5712848131323671\n",
            "Iteration 20/500 - loss = 1.423632032061289\n",
            "Iteration 30/500 - loss = 1.3373543427688779\n",
            "Iteration 40/500 - loss = 1.2849768831624402\n",
            "Iteration 50/500 - loss = 1.2485078496928617\n",
            "Iteration 60/500 - loss = 1.2207728074639963\n",
            "Iteration 70/500 - loss = 1.1972185373658255\n",
            "Iteration 80/500 - loss = 1.1768224735185484\n",
            "Iteration 90/500 - loss = 1.1603414651544521\n",
            "Iteration 100/500 - loss = 1.1430605059635626\n",
            "Iteration 110/500 - loss = 1.1288601678593597\n",
            "Iteration 120/500 - loss = 1.1168074822682186\n",
            "Iteration 130/500 - loss = 1.107764307293746\n",
            "Iteration 140/500 - loss = 1.0977513378959833\n",
            "Iteration 150/500 - loss = 1.0904804410073916\n",
            "Iteration 160/500 - loss = 1.0838406043965734\n",
            "Iteration 170/500 - loss = 1.078624385064881\n",
            "Iteration 180/500 - loss = 1.073815189988982\n",
            "Iteration 190/500 - loss = 1.0698554686797517\n",
            "Iteration 200/500 - loss = 1.066431851624435\n",
            "Iteration 210/500 - loss = 1.0634252783172244\n",
            "Iteration 220/500 - loss = 1.0603778685575764\n",
            "Iteration 230/500 - loss = 1.0579309661183554\n",
            "Iteration 240/500 - loss = 1.055527575135298\n",
            "Iteration 250/500 - loss = 1.0537853923225422\n",
            "Iteration 260/500 - loss = 1.0517845350905815\n",
            "Iteration 270/500 - loss = 1.0499596358610002\n",
            "Iteration 280/500 - loss = 1.0483276394291825\n",
            "Iteration 290/500 - loss = 1.0467318603315516\n",
            "Iteration 300/500 - loss = 1.0450513427631252\n",
            "Iteration 310/500 - loss = 1.0437623584373195\n",
            "Iteration 320/500 - loss = 1.0424002424353902\n",
            "Iteration 330/500 - loss = 1.041139214018824\n",
            "Iteration 340/500 - loss = 1.0399242880378885\n",
            "Iteration 350/500 - loss = 1.03890685499682\n",
            "Iteration 360/500 - loss = 1.0378944453784509\n",
            "Iteration 370/500 - loss = 1.036713151949908\n",
            "Iteration 380/500 - loss = 1.0358543309345192\n",
            "Iteration 390/500 - loss = 1.03505285803644\n",
            "Iteration 400/500 - loss = 1.0342382664073946\n",
            "Iteration 410/500 - loss = 1.0332815014284182\n",
            "Iteration 420/500 - loss = 1.0327885951204197\n",
            "Iteration 430/500 - loss = 1.0318572832426847\n",
            "Iteration 440/500 - loss = 1.0312835500122146\n",
            "Iteration 450/500 - loss = 1.0305949132357657\n",
            "Iteration 460/500 - loss = 1.0300667830135652\n",
            "Iteration 470/500 - loss = 1.0295128325227922\n",
            "Iteration 480/500 - loss = 1.0288681802386532\n",
            "Iteration 490/500 - loss = 1.0283605289943718\n",
            "Iteration 500/500 - loss = 1.027849485700429\n"
          ]
        },
        {
          "output_type": "display_data",
          "data": {
            "text/plain": [
              "<Figure size 640x480 with 1 Axes>"
            ],
            "image/png": "[encoded data removed]"
          },
          "metadata": {}
        }
      ]
    },
    {
      "cell_type": "code",
      "source": [
        "y_pred = model.predict(X_test)\n",
        "results['SGP'] = SMSE(y_pred, y_test)\n",
        "results"
      ],
      "metadata": {
        "colab": {
          "base_uri": "https://localhost:8080/",
          "height": 81
        },
        "id": "pgTsKOSi3tgu",
        "outputId": "0e22bf7e-282e-4974-db1a-87b0b335df1b"
      },
      "execution_count": 15,
      "outputs": [
        {
          "output_type": "execute_result",
          "data": {
            "text/plain": [
              "      LinearRegression  HistGradientBoostingRegressor       SGP\n",
              "SMSE          0.477802                       0.574448  0.435678"
            ],
            "text/html": [
              "\n",
              "  <div id=\"df-a8bc7911-c327-4f81-9409-021c6a4006d6\" class=\"colab-df-container\">\n",
              "    <div>\n",
              "<style scoped>\n",
              "    .dataframe tbody tr th:only-of-type {\n",
              "        vertical-align: middle;\n",
              "    }\n",
              "\n",
              "    .dataframe tbody tr th {\n",
              "        vertical-align: top;\n",
              "    }\n",
              "\n",
              "    .dataframe thead th {\n",
              "        text-align: right;\n",
              "    }\n",
              "</style>\n",
              "<table border=\"1\" class=\"dataframe\">\n",
              "  <thead>\n",
              "    <tr style=\"text-align: right;\">\n",
              "      <th></th>\n",
              "      <th>LinearRegression</th>\n",
              "      <th>HistGradientBoostingRegressor</th>\n",
              "      <th>SGP</th>\n",
              "    </tr>\n",
              "  </thead>\n",
              "  <tbody>\n",
              "    <tr>\n",
              "      <th>SMSE</th>\n",
              "      <td>0.477802</td>\n",
              "      <td>0.574448</td>\n",
              "      <td>0.435678</td>\n",
              "    </tr>\n",
              "  </tbody>\n",
              "</table>\n",
              "</div>\n",
              "    <div class=\"colab-df-buttons\">\n",
              "\n",
              "  <div class=\"colab-df-container\">\n",
              "    <button class=\"colab-df-convert\" onclick=\"convertToInteractive('df-a8bc7911-c327-4f81-9409-021c6a4006d6')\"\n",
              "            title=\"Convert this dataframe to an interactive table.\"\n",
              "            style=\"display:none;\">\n",
              "\n",
              "  <svg xmlns=\"http://www.w3.org/2000/svg\" height=\"24px\" viewBox=\"0 -960 960 960\">\n",
              "    <path d=\"M120-120v-720h720v720H120Zm60-500h600v-160H180v160Zm220 220h160v-160H400v160Zm0 220h160v-160H400v160ZM180-400h160v-160H180v160Zm440 0h160v-160H620v160ZM180-180h160v-160H180v160Zm440 0h160v-160H620v160Z\"/>\n",
              "  </svg>\n",
              "    </button>\n",
              "\n",
              "  <style>\n",
              "    .colab-df-container {\n",
              "      display:flex;\n",
              "      gap: 12px;\n",
              "    }\n",
              "\n",
              "    .colab-df-convert {\n",
              "      background-color: #E8F0FE;\n",
              "      border: none;\n",
              "      border-radius: 50%;\n",
              "      cursor: pointer;\n",
              "      display: none;\n",
              "      fill: #1967D2;\n",
              "      height: 32px;\n",
              "      padding: 0 0 0 0;\n",
              "      width: 32px;\n",
              "    }\n",
              "\n",
              "    .colab-df-convert:hover {\n",
              "      background-color: #E2EBFA;\n",
              "      box-shadow: 0px 1px 2px rgba(60, 64, 67, 0.3), 0px 1px 3px 1px rgba(60, 64, 67, 0.15);\n",
              "      fill: #174EA6;\n",
              "    }\n",
              "\n",
              "    .colab-df-buttons div {\n",
              "      margin-bottom: 4px;\n",
              "    }\n",
              "\n",
              "    [theme=dark] .colab-df-convert {\n",
              "      background-color: #3B4455;\n",
              "      fill: #D2E3FC;\n",
              "    }\n",
              "\n",
              "    [theme=dark] .colab-df-convert:hover {\n",
              "      background-color: #434B5C;\n",
              "      box-shadow: 0px 1px 3px 1px rgba(0, 0, 0, 0.15);\n",
              "      filter: drop-shadow(0px 1px 2px rgba(0, 0, 0, 0.3));\n",
              "      fill: #FFFFFF;\n",
              "    }\n",
              "  </style>\n",
              "\n",
              "    <script>\n",
              "      const buttonEl =\n",
              "        document.querySelector('#df-a8bc7911-c327-4f81-9409-021c6a4006d6 button.colab-df-convert');\n",
              "      buttonEl.style.display =\n",
              "        google.colab.kernel.accessAllowed ? 'block' : 'none';\n",
              "\n",
              "      async function convertToInteractive(key) {\n",
              "        const element = document.querySelector('#df-a8bc7911-c327-4f81-9409-021c6a4006d6');\n",
              "        const dataTable =\n",
              "          await google.colab.kernel.invokeFunction('convertToInteractive',\n",
              "                                                    [key], {});\n",
              "        if (!dataTable) return;\n",
              "\n",
              "        const docLinkHtml = 'Like what you see? Visit the ' +\n",
              "          '<a target=\"_blank\" href=https://colab.research.google.com/notebooks/data_table.ipynb>data table notebook</a>'\n",
              "          + ' to learn more about interactive tables.';\n",
              "        element.innerHTML = '';\n",
              "        dataTable['output_type'] = 'display_data';\n",
              "        await google.colab.output.renderOutput(dataTable, element);\n",
              "        const docLink = document.createElement('div');\n",
              "        docLink.innerHTML = docLinkHtml;\n",
              "        element.appendChild(docLink);\n",
              "      }\n",
              "    </script>\n",
              "  </div>\n",
              "\n",
              "    </div>\n",
              "  </div>\n"
            ],
            "application/vnd.google.colaboratory.intrinsic+json": {
              "type": "dataframe",
              "variable_name": "results",
              "summary": "{\n  \"name\": \"results\",\n  \"rows\": 1,\n  \"fields\": [\n    {\n      \"column\": \"LinearRegression\",\n      \"properties\": {\n        \"dtype\": \"number\",\n        \"std\": null,\n        \"min\": 0.47780169977013126,\n        \"max\": 0.47780169977013126,\n        \"num_unique_values\": 1,\n        \"samples\": [\n          0.47780169977013126\n        ],\n        \"semantic_type\": \"\",\n        \"description\": \"\"\n      }\n    },\n    {\n      \"column\": \"HistGradientBoostingRegressor\",\n      \"properties\": {\n        \"dtype\": \"number\",\n        \"std\": null,\n        \"min\": 0.5744479997066854,\n        \"max\": 0.5744479997066854,\n        \"num_unique_values\": 1,\n        \"samples\": [\n          0.5744479997066854\n        ],\n        \"semantic_type\": \"\",\n        \"description\": \"\"\n      }\n    },\n    {\n      \"column\": \"SGP\",\n      \"properties\": {\n        \"dtype\": \"number\",\n        \"std\": null,\n        \"min\": 0.4356777815567402,\n        \"max\": 0.4356777815567402,\n        \"num_unique_values\": 1,\n        \"samples\": [\n          0.4356777815567402\n        ],\n        \"semantic_type\": \"\",\n        \"description\": \"\"\n      }\n    }\n  ]\n}"
            }
          },
          "metadata": {},
          "execution_count": 15
        }
      ]
    },
    {
      "cell_type": "markdown",
      "source": [
        "## Forest Fires dataset"
      ],
      "metadata": {
        "id": "2z1o33JYl6KJ"
      }
    },
    {
      "cell_type": "code",
      "source": [
        "# fetch dataset\n",
        "fires = fetch_ucirepo(id=162)\n",
        "\n",
        "# data (as pandas dataframes)\n",
        "X = fires.data.features\n",
        "y = fires.data.targets\n",
        "X = X.drop([\"month\", \"day\"], axis=1).to_numpy()\n",
        "y = y.to_numpy().flatten()\n",
        "X_train, X_test, y_train, y_test = train_test_split(X, y)\n",
        "X_train, X_test, y_train, y_test = standardize(X_train, X_test, y_train, y_test)"
      ],
      "metadata": {
        "id": "DQqodBvbl5Bo"
      },
      "execution_count": 16,
      "outputs": []
    },
    {
      "cell_type": "code",
      "source": [
        "estimators = [linear_model.LinearRegression(), ensemble.HistGradientBoostingRegressor(max_iter=1000)]\n",
        "results = test_sklearn_estimators(X_train, X_test, y_train, y_test, estimators)\n",
        "results"
      ],
      "metadata": {
        "colab": {
          "base_uri": "https://localhost:8080/",
          "height": 81
        },
        "id": "i2nvNIYJ4CnC",
        "outputId": "b6b1f7d2-89f3-4739-b25c-baa1a4bcd593"
      },
      "execution_count": 17,
      "outputs": [
        {
          "output_type": "execute_result",
          "data": {
            "text/plain": [
              "      LinearRegression  HistGradientBoostingRegressor\n",
              "SMSE          0.998692                       1.248558"
            ],
            "text/html": [
              "\n",
              "  <div id=\"df-34610548-e4e8-43b1-a73d-0355a3304784\" class=\"colab-df-container\">\n",
              "    <div>\n",
              "<style scoped>\n",
              "    .dataframe tbody tr th:only-of-type {\n",
              "        vertical-align: middle;\n",
              "    }\n",
              "\n",
              "    .dataframe tbody tr th {\n",
              "        vertical-align: top;\n",
              "    }\n",
              "\n",
              "    .dataframe thead th {\n",
              "        text-align: right;\n",
              "    }\n",
              "</style>\n",
              "<table border=\"1\" class=\"dataframe\">\n",
              "  <thead>\n",
              "    <tr style=\"text-align: right;\">\n",
              "      <th></th>\n",
              "      <th>LinearRegression</th>\n",
              "      <th>HistGradientBoostingRegressor</th>\n",
              "    </tr>\n",
              "  </thead>\n",
              "  <tbody>\n",
              "    <tr>\n",
              "      <th>SMSE</th>\n",
              "      <td>0.998692</td>\n",
              "      <td>1.248558</td>\n",
              "    </tr>\n",
              "  </tbody>\n",
              "</table>\n",
              "</div>\n",
              "    <div class=\"colab-df-buttons\">\n",
              "\n",
              "  <div class=\"colab-df-container\">\n",
              "    <button class=\"colab-df-convert\" onclick=\"convertToInteractive('df-34610548-e4e8-43b1-a73d-0355a3304784')\"\n",
              "            title=\"Convert this dataframe to an interactive table.\"\n",
              "            style=\"display:none;\">\n",
              "\n",
              "  <svg xmlns=\"http://www.w3.org/2000/svg\" height=\"24px\" viewBox=\"0 -960 960 960\">\n",
              "    <path d=\"M120-120v-720h720v720H120Zm60-500h600v-160H180v160Zm220 220h160v-160H400v160Zm0 220h160v-160H400v160ZM180-400h160v-160H180v160Zm440 0h160v-160H620v160ZM180-180h160v-160H180v160Zm440 0h160v-160H620v160Z\"/>\n",
              "  </svg>\n",
              "    </button>\n",
              "\n",
              "  <style>\n",
              "    .colab-df-container {\n",
              "      display:flex;\n",
              "      gap: 12px;\n",
              "    }\n",
              "\n",
              "    .colab-df-convert {\n",
              "      background-color: #E8F0FE;\n",
              "      border: none;\n",
              "      border-radius: 50%;\n",
              "      cursor: pointer;\n",
              "      display: none;\n",
              "      fill: #1967D2;\n",
              "      height: 32px;\n",
              "      padding: 0 0 0 0;\n",
              "      width: 32px;\n",
              "    }\n",
              "\n",
              "    .colab-df-convert:hover {\n",
              "      background-color: #E2EBFA;\n",
              "      box-shadow: 0px 1px 2px rgba(60, 64, 67, 0.3), 0px 1px 3px 1px rgba(60, 64, 67, 0.15);\n",
              "      fill: #174EA6;\n",
              "    }\n",
              "\n",
              "    .colab-df-buttons div {\n",
              "      margin-bottom: 4px;\n",
              "    }\n",
              "\n",
              "    [theme=dark] .colab-df-convert {\n",
              "      background-color: #3B4455;\n",
              "      fill: #D2E3FC;\n",
              "    }\n",
              "\n",
              "    [theme=dark] .colab-df-convert:hover {\n",
              "      background-color: #434B5C;\n",
              "      box-shadow: 0px 1px 3px 1px rgba(0, 0, 0, 0.15);\n",
              "      filter: drop-shadow(0px 1px 2px rgba(0, 0, 0, 0.3));\n",
              "      fill: #FFFFFF;\n",
              "    }\n",
              "  </style>\n",
              "\n",
              "    <script>\n",
              "      const buttonEl =\n",
              "        document.querySelector('#df-34610548-e4e8-43b1-a73d-0355a3304784 button.colab-df-convert');\n",
              "      buttonEl.style.display =\n",
              "        google.colab.kernel.accessAllowed ? 'block' : 'none';\n",
              "\n",
              "      async function convertToInteractive(key) {\n",
              "        const element = document.querySelector('#df-34610548-e4e8-43b1-a73d-0355a3304784');\n",
              "        const dataTable =\n",
              "          await google.colab.kernel.invokeFunction('convertToInteractive',\n",
              "                                                    [key], {});\n",
              "        if (!dataTable) return;\n",
              "\n",
              "        const docLinkHtml = 'Like what you see? Visit the ' +\n",
              "          '<a target=\"_blank\" href=https://colab.research.google.com/notebooks/data_table.ipynb>data table notebook</a>'\n",
              "          + ' to learn more about interactive tables.';\n",
              "        element.innerHTML = '';\n",
              "        dataTable['output_type'] = 'display_data';\n",
              "        await google.colab.output.renderOutput(dataTable, element);\n",
              "        const docLink = document.createElement('div');\n",
              "        docLink.innerHTML = docLinkHtml;\n",
              "        element.appendChild(docLink);\n",
              "      }\n",
              "    </script>\n",
              "  </div>\n",
              "\n",
              "    </div>\n",
              "  </div>\n"
            ],
            "application/vnd.google.colaboratory.intrinsic+json": {
              "type": "dataframe",
              "variable_name": "results",
              "summary": "{\n  \"name\": \"results\",\n  \"rows\": 1,\n  \"fields\": [\n    {\n      \"column\": \"LinearRegression\",\n      \"properties\": {\n        \"dtype\": \"number\",\n        \"std\": null,\n        \"min\": 0.998691954778832,\n        \"max\": 0.998691954778832,\n        \"num_unique_values\": 1,\n        \"samples\": [\n          0.998691954778832\n        ],\n        \"semantic_type\": \"\",\n        \"description\": \"\"\n      }\n    },\n    {\n      \"column\": \"HistGradientBoostingRegressor\",\n      \"properties\": {\n        \"dtype\": \"number\",\n        \"std\": null,\n        \"min\": 1.2485576797594435,\n        \"max\": 1.2485576797594435,\n        \"num_unique_values\": 1,\n        \"samples\": [\n          1.2485576797594435\n        ],\n        \"semantic_type\": \"\",\n        \"description\": \"\"\n      }\n    }\n  ]\n}"
            }
          },
          "metadata": {},
          "execution_count": 17
        }
      ]
    },
    {
      "cell_type": "code",
      "source": [
        "X_train, X_test, y_train, y_test = to_tensors(X_train, X_test, y_train, y_test, device=device)\n",
        "model = VARSGP(X_train, y_train, 100).to(device)\n",
        "model.fit(lr=.01)"
      ],
      "metadata": {
        "colab": {
          "base_uri": "https://localhost:8080/",
          "height": 1000
        },
        "id": "3rq5CfM7KaBo",
        "outputId": "1e6d71e4-19e9-41e0-c59b-dca7be29c234"
      },
      "execution_count": 18,
      "outputs": [
        {
          "output_type": "stream",
          "name": "stdout",
          "text": [
            "Iteration 10/500 - loss = 1.8392367514021613\n",
            "Iteration 20/500 - loss = 1.7320819766477848\n",
            "Iteration 30/500 - loss = 1.6571863277338321\n",
            "Iteration 40/500 - loss = 1.603179787996412\n",
            "Iteration 50/500 - loss = 1.5619007759159032\n",
            "Iteration 60/500 - loss = 1.529862288961414\n",
            "Iteration 70/500 - loss = 1.5043076064058576\n",
            "Iteration 80/500 - loss = 1.4837722430498717\n",
            "Iteration 90/500 - loss = 1.467414763216231\n",
            "Iteration 100/500 - loss = 1.4539297194168013\n",
            "Iteration 110/500 - loss = 1.44241663311104\n",
            "Iteration 120/500 - loss = 1.4322931813158488\n",
            "Iteration 130/500 - loss = 1.423254029585883\n",
            "Iteration 140/500 - loss = 1.415275238174923\n",
            "Iteration 150/500 - loss = 1.408155212955855\n",
            "Iteration 160/500 - loss = 1.4016308599516314\n",
            "Iteration 170/500 - loss = 1.3957777197099603\n",
            "Iteration 180/500 - loss = 1.3907408754221657\n",
            "Iteration 190/500 - loss = 1.3864347456269939\n",
            "Iteration 200/500 - loss = 1.3826754227186673\n",
            "Iteration 210/500 - loss = 1.3792785835133419\n",
            "Iteration 220/500 - loss = 1.3761439029430007\n",
            "Iteration 230/500 - loss = 1.37330562558635\n",
            "Iteration 240/500 - loss = 1.3706992052714884\n",
            "Iteration 250/500 - loss = 1.3682607627535235\n",
            "Iteration 260/500 - loss = 1.3659397853371118\n",
            "Iteration 270/500 - loss = 1.3637151234752363\n",
            "Iteration 280/500 - loss = 1.3616936946061395\n",
            "Iteration 290/500 - loss = 1.3598335385567417\n",
            "Iteration 300/500 - loss = 1.358230752043011\n",
            "Iteration 310/500 - loss = 1.356767028848414\n",
            "Iteration 320/500 - loss = 1.3553071408464703\n",
            "Iteration 330/500 - loss = 1.3536168876509682\n",
            "Iteration 340/500 - loss = 1.3515800731521612\n",
            "Iteration 350/500 - loss = 1.3491662584256991\n",
            "Iteration 360/500 - loss = 1.3464915553312322\n",
            "Iteration 370/500 - loss = 1.3435392866347182\n",
            "Iteration 380/500 - loss = 1.340329774316187\n",
            "Iteration 390/500 - loss = 1.3370023655570882\n",
            "Iteration 400/500 - loss = 1.333642954658423\n",
            "Iteration 410/500 - loss = 1.3302288398040971\n",
            "Iteration 420/500 - loss = 1.3268347641865148\n",
            "Iteration 430/500 - loss = 1.3234206733196787\n",
            "Iteration 440/500 - loss = 1.319900151474445\n",
            "Iteration 450/500 - loss = 1.316412175771619\n",
            "Iteration 460/500 - loss = 1.3128166858385721\n",
            "Iteration 470/500 - loss = 1.3093813072712148\n",
            "Iteration 480/500 - loss = 1.3060340979597835\n",
            "Iteration 490/500 - loss = 1.3028092227513348\n",
            "Iteration 500/500 - loss = 1.2998944979940847\n"
          ]
        },
        {
          "output_type": "display_data",
          "data": {
            "text/plain": [
              "<Figure size 640x480 with 1 Axes>"
            ],
            "image/png": "[encoded data removed]"
          },
          "metadata": {}
        }
      ]
    },
    {
      "cell_type": "code",
      "source": [
        "y_pred = model.predict(X_test)\n",
        "results['SGP'] = SMSE(y_pred, y_test)\n",
        "results"
      ],
      "metadata": {
        "colab": {
          "base_uri": "https://localhost:8080/",
          "height": 81
        },
        "id": "ciG4qh3c4USD",
        "outputId": "60f0932e-0a2c-46ae-da84-61b6fc11070e"
      },
      "execution_count": 19,
      "outputs": [
        {
          "output_type": "execute_result",
          "data": {
            "text/plain": [
              "      LinearRegression  HistGradientBoostingRegressor      SGP\n",
              "SMSE          0.998692                       1.248558  1.00942"
            ],
            "text/html": [
              "\n",
              "  <div id=\"df-0498bb0b-2aa1-4ea0-8afe-51c2cbfbc19c\" class=\"colab-df-container\">\n",
              "    <div>\n",
              "<style scoped>\n",
              "    .dataframe tbody tr th:only-of-type {\n",
              "        vertical-align: middle;\n",
              "    }\n",
              "\n",
              "    .dataframe tbody tr th {\n",
              "        vertical-align: top;\n",
              "    }\n",
              "\n",
              "    .dataframe thead th {\n",
              "        text-align: right;\n",
              "    }\n",
              "</style>\n",
              "<table border=\"1\" class=\"dataframe\">\n",
              "  <thead>\n",
              "    <tr style=\"text-align: right;\">\n",
              "      <th></th>\n",
              "      <th>LinearRegression</th>\n",
              "      <th>HistGradientBoostingRegressor</th>\n",
              "      <th>SGP</th>\n",
              "    </tr>\n",
              "  </thead>\n",
              "  <tbody>\n",
              "    <tr>\n",
              "      <th>SMSE</th>\n",
              "      <td>0.998692</td>\n",
              "      <td>1.248558</td>\n",
              "      <td>1.00942</td>\n",
              "    </tr>\n",
              "  </tbody>\n",
              "</table>\n",
              "</div>\n",
              "    <div class=\"colab-df-buttons\">\n",
              "\n",
              "  <div class=\"colab-df-container\">\n",
              "    <button class=\"colab-df-convert\" onclick=\"convertToInteractive('df-0498bb0b-2aa1-4ea0-8afe-51c2cbfbc19c')\"\n",
              "            title=\"Convert this dataframe to an interactive table.\"\n",
              "            style=\"display:none;\">\n",
              "\n",
              "  <svg xmlns=\"http://www.w3.org/2000/svg\" height=\"24px\" viewBox=\"0 -960 960 960\">\n",
              "    <path d=\"M120-120v-720h720v720H120Zm60-500h600v-160H180v160Zm220 220h160v-160H400v160Zm0 220h160v-160H400v160ZM180-400h160v-160H180v160Zm440 0h160v-160H620v160ZM180-180h160v-160H180v160Zm440 0h160v-160H620v160Z\"/>\n",
              "  </svg>\n",
              "    </button>\n",
              "\n",
              "  <style>\n",
              "    .colab-df-container {\n",
              "      display:flex;\n",
              "      gap: 12px;\n",
              "    }\n",
              "\n",
              "    .colab-df-convert {\n",
              "      background-color: #E8F0FE;\n",
              "      border: none;\n",
              "      border-radius: 50%;\n",
              "      cursor: pointer;\n",
              "      display: none;\n",
              "      fill: #1967D2;\n",
              "      height: 32px;\n",
              "      padding: 0 0 0 0;\n",
              "      width: 32px;\n",
              "    }\n",
              "\n",
              "    .colab-df-convert:hover {\n",
              "      background-color: #E2EBFA;\n",
              "      box-shadow: 0px 1px 2px rgba(60, 64, 67, 0.3), 0px 1px 3px 1px rgba(60, 64, 67, 0.15);\n",
              "      fill: #174EA6;\n",
              "    }\n",
              "\n",
              "    .colab-df-buttons div {\n",
              "      margin-bottom: 4px;\n",
              "    }\n",
              "\n",
              "    [theme=dark] .colab-df-convert {\n",
              "      background-color: #3B4455;\n",
              "      fill: #D2E3FC;\n",
              "    }\n",
              "\n",
              "    [theme=dark] .colab-df-convert:hover {\n",
              "      background-color: #434B5C;\n",
              "      box-shadow: 0px 1px 3px 1px rgba(0, 0, 0, 0.15);\n",
              "      filter: drop-shadow(0px 1px 2px rgba(0, 0, 0, 0.3));\n",
              "      fill: #FFFFFF;\n",
              "    }\n",
              "  </style>\n",
              "\n",
              "    <script>\n",
              "      const buttonEl =\n",
              "        document.querySelector('#df-0498bb0b-2aa1-4ea0-8afe-51c2cbfbc19c button.colab-df-convert');\n",
              "      buttonEl.style.display =\n",
              "        google.colab.kernel.accessAllowed ? 'block' : 'none';\n",
              "\n",
              "      async function convertToInteractive(key) {\n",
              "        const element = document.querySelector('#df-0498bb0b-2aa1-4ea0-8afe-51c2cbfbc19c');\n",
              "        const dataTable =\n",
              "          await google.colab.kernel.invokeFunction('convertToInteractive',\n",
              "                                                    [key], {});\n",
              "        if (!dataTable) return;\n",
              "\n",
              "        const docLinkHtml = 'Like what you see? Visit the ' +\n",
              "          '<a target=\"_blank\" href=https://colab.research.google.com/notebooks/data_table.ipynb>data table notebook</a>'\n",
              "          + ' to learn more about interactive tables.';\n",
              "        element.innerHTML = '';\n",
              "        dataTable['output_type'] = 'display_data';\n",
              "        await google.colab.output.renderOutput(dataTable, element);\n",
              "        const docLink = document.createElement('div');\n",
              "        docLink.innerHTML = docLinkHtml;\n",
              "        element.appendChild(docLink);\n",
              "      }\n",
              "    </script>\n",
              "  </div>\n",
              "\n",
              "    </div>\n",
              "  </div>\n"
            ],
            "application/vnd.google.colaboratory.intrinsic+json": {
              "type": "dataframe",
              "variable_name": "results",
              "summary": "{\n  \"name\": \"results\",\n  \"rows\": 1,\n  \"fields\": [\n    {\n      \"column\": \"LinearRegression\",\n      \"properties\": {\n        \"dtype\": \"number\",\n        \"std\": null,\n        \"min\": 0.998691954778832,\n        \"max\": 0.998691954778832,\n        \"num_unique_values\": 1,\n        \"samples\": [\n          0.998691954778832\n        ],\n        \"semantic_type\": \"\",\n        \"description\": \"\"\n      }\n    },\n    {\n      \"column\": \"HistGradientBoostingRegressor\",\n      \"properties\": {\n        \"dtype\": \"number\",\n        \"std\": null,\n        \"min\": 1.2485576797594435,\n        \"max\": 1.2485576797594435,\n        \"num_unique_values\": 1,\n        \"samples\": [\n          1.2485576797594435\n        ],\n        \"semantic_type\": \"\",\n        \"description\": \"\"\n      }\n    },\n    {\n      \"column\": \"SGP\",\n      \"properties\": {\n        \"dtype\": \"number\",\n        \"std\": null,\n        \"min\": 1.0094195384732223,\n        \"max\": 1.0094195384732223,\n        \"num_unique_values\": 1,\n        \"samples\": [\n          1.0094195384732223\n        ],\n        \"semantic_type\": \"\",\n        \"description\": \"\"\n      }\n    }\n  ]\n}"
            }
          },
          "metadata": {},
          "execution_count": 19
        }
      ]
    },
    {
      "cell_type": "markdown",
      "source": [
        "## Electrical Grid Stability Simulated Data"
      ],
      "metadata": {
        "id": "MXdost1B5WNy"
      }
    },
    {
      "cell_type": "code",
      "source": [
        "# fetch dataset\n",
        "elec = fetch_ucirepo(id=471)\n",
        "\n",
        "# data (as pandas dataframes)\n",
        "X = elec.data.features\n",
        "y = elec.data.targets\n",
        "X = X.to_numpy()\n",
        "y = y['stab'].to_numpy().flatten()\n",
        "X_train, X_test, y_train, y_test = train_test_split(X, y)\n",
        "X_train, X_test, y_train, y_test = standardize(X_train, X_test, y_train, y_test)\n",
        "estimators = [linear_model.LinearRegression(), ensemble.HistGradientBoostingRegressor(max_iter=1000)]\n",
        "results = test_sklearn_estimators(X_train, X_test, y_train, y_test, estimators)"
      ],
      "metadata": {
        "id": "Hvni9rjd5YEp"
      },
      "execution_count": 20,
      "outputs": []
    },
    {
      "cell_type": "code",
      "source": [
        "X_train, X_test, y_train, y_test = to_tensors(X_train, X_test, y_train, y_test, device=device)\n",
        "model = VARSGP(X_train, y_train, 100).to(device)\n",
        "model.fit(lr=.01, n_iter=1000, print_every=100)"
      ],
      "metadata": {
        "colab": {
          "base_uri": "https://localhost:8080/",
          "height": 626
        },
        "id": "MlhWyMM-6IJ1",
        "outputId": "98df3ffd-c48c-480a-9d7f-424e32d70d62"
      },
      "execution_count": 21,
      "outputs": [
        {
          "output_type": "stream",
          "name": "stdout",
          "text": [
            "Iteration 100/1000 - loss = 1.385825628711877\n",
            "Iteration 200/1000 - loss = 1.0486650731293312\n",
            "Iteration 300/1000 - loss = 0.7597358045344857\n",
            "Iteration 400/1000 - loss = 0.5068397747658615\n",
            "Iteration 500/1000 - loss = 0.3952801597304303\n",
            "Iteration 600/1000 - loss = 0.37636423100728134\n",
            "Iteration 700/1000 - loss = 0.37187016107421783\n",
            "Iteration 800/1000 - loss = 0.3688452446241849\n",
            "Iteration 900/1000 - loss = 0.3659652732954219\n",
            "Iteration 1000/1000 - loss = 0.36639449574956345\n"
          ]
        },
        {
          "output_type": "display_data",
          "data": {
            "text/plain": [
              "<Figure size 640x480 with 1 Axes>"
            ],
            "image/png": "[encoded data removed]"
          },
          "metadata": {}
        }
      ]
    },
    {
      "cell_type": "code",
      "source": [
        "y_pred = model.predict(X_test)\n",
        "results['SGP'] = SMSE(y_pred, y_test)\n",
        "results"
      ],
      "metadata": {
        "colab": {
          "base_uri": "https://localhost:8080/",
          "height": 81
        },
        "id": "MGfVyrOM5xhq",
        "outputId": "8bb2eedc-9dd5-4512-f672-a297393e4a7d"
      },
      "execution_count": 22,
      "outputs": [
        {
          "output_type": "execute_result",
          "data": {
            "text/plain": [
              "      LinearRegression  HistGradientBoostingRegressor       SGP\n",
              "SMSE          0.358792                        0.04488  0.062721"
            ],
            "text/html": [
              "\n",
              "  <div id=\"df-fb0e5376-5a7c-4c8f-814d-7f03ad589e24\" class=\"colab-df-container\">\n",
              "    <div>\n",
              "<style scoped>\n",
              "    .dataframe tbody tr th:only-of-type {\n",
              "        vertical-align: middle;\n",
              "    }\n",
              "\n",
              "    .dataframe tbody tr th {\n",
              "        vertical-align: top;\n",
              "    }\n",
              "\n",
              "    .dataframe thead th {\n",
              "        text-align: right;\n",
              "    }\n",
              "</style>\n",
              "<table border=\"1\" class=\"dataframe\">\n",
              "  <thead>\n",
              "    <tr style=\"text-align: right;\">\n",
              "      <th></th>\n",
              "      <th>LinearRegression</th>\n",
              "      <th>HistGradientBoostingRegressor</th>\n",
              "      <th>SGP</th>\n",
              "    </tr>\n",
              "  </thead>\n",
              "  <tbody>\n",
              "    <tr>\n",
              "      <th>SMSE</th>\n",
              "      <td>0.358792</td>\n",
              "      <td>0.04488</td>\n",
              "      <td>0.062721</td>\n",
              "    </tr>\n",
              "  </tbody>\n",
              "</table>\n",
              "</div>\n",
              "    <div class=\"colab-df-buttons\">\n",
              "\n",
              "  <div class=\"colab-df-container\">\n",
              "    <button class=\"colab-df-convert\" onclick=\"convertToInteractive('df-fb0e5376-5a7c-4c8f-814d-7f03ad589e24')\"\n",
              "            title=\"Convert this dataframe to an interactive table.\"\n",
              "            style=\"display:none;\">\n",
              "\n",
              "  <svg xmlns=\"http://www.w3.org/2000/svg\" height=\"24px\" viewBox=\"0 -960 960 960\">\n",
              "    <path d=\"M120-120v-720h720v720H120Zm60-500h600v-160H180v160Zm220 220h160v-160H400v160Zm0 220h160v-160H400v160ZM180-400h160v-160H180v160Zm440 0h160v-160H620v160ZM180-180h160v-160H180v160Zm440 0h160v-160H620v160Z\"/>\n",
              "  </svg>\n",
              "    </button>\n",
              "\n",
              "  <style>\n",
              "    .colab-df-container {\n",
              "      display:flex;\n",
              "      gap: 12px;\n",
              "    }\n",
              "\n",
              "    .colab-df-convert {\n",
              "      background-color: #E8F0FE;\n",
              "      border: none;\n",
              "      border-radius: 50%;\n",
              "      cursor: pointer;\n",
              "      display: none;\n",
              "      fill: #1967D2;\n",
              "      height: 32px;\n",
              "      padding: 0 0 0 0;\n",
              "      width: 32px;\n",
              "    }\n",
              "\n",
              "    .colab-df-convert:hover {\n",
              "      background-color: #E2EBFA;\n",
              "      box-shadow: 0px 1px 2px rgba(60, 64, 67, 0.3), 0px 1px 3px 1px rgba(60, 64, 67, 0.15);\n",
              "      fill: #174EA6;\n",
              "    }\n",
              "\n",
              "    .colab-df-buttons div {\n",
              "      margin-bottom: 4px;\n",
              "    }\n",
              "\n",
              "    [theme=dark] .colab-df-convert {\n",
              "      background-color: #3B4455;\n",
              "      fill: #D2E3FC;\n",
              "    }\n",
              "\n",
              "    [theme=dark] .colab-df-convert:hover {\n",
              "      background-color: #434B5C;\n",
              "      box-shadow: 0px 1px 3px 1px rgba(0, 0, 0, 0.15);\n",
              "      filter: drop-shadow(0px 1px 2px rgba(0, 0, 0, 0.3));\n",
              "      fill: #FFFFFF;\n",
              "    }\n",
              "  </style>\n",
              "\n",
              "    <script>\n",
              "      const buttonEl =\n",
              "        document.querySelector('#df-fb0e5376-5a7c-4c8f-814d-7f03ad589e24 button.colab-df-convert');\n",
              "      buttonEl.style.display =\n",
              "        google.colab.kernel.accessAllowed ? 'block' : 'none';\n",
              "\n",
              "      async function convertToInteractive(key) {\n",
              "        const element = document.querySelector('#df-fb0e5376-5a7c-4c8f-814d-7f03ad589e24');\n",
              "        const dataTable =\n",
              "          await google.colab.kernel.invokeFunction('convertToInteractive',\n",
              "                                                    [key], {});\n",
              "        if (!dataTable) return;\n",
              "\n",
              "        const docLinkHtml = 'Like what you see? Visit the ' +\n",
              "          '<a target=\"_blank\" href=https://colab.research.google.com/notebooks/data_table.ipynb>data table notebook</a>'\n",
              "          + ' to learn more about interactive tables.';\n",
              "        element.innerHTML = '';\n",
              "        dataTable['output_type'] = 'display_data';\n",
              "        await google.colab.output.renderOutput(dataTable, element);\n",
              "        const docLink = document.createElement('div');\n",
              "        docLink.innerHTML = docLinkHtml;\n",
              "        element.appendChild(docLink);\n",
              "      }\n",
              "    </script>\n",
              "  </div>\n",
              "\n",
              "    </div>\n",
              "  </div>\n"
            ],
            "application/vnd.google.colaboratory.intrinsic+json": {
              "type": "dataframe",
              "variable_name": "results",
              "summary": "{\n  \"name\": \"results\",\n  \"rows\": 1,\n  \"fields\": [\n    {\n      \"column\": \"LinearRegression\",\n      \"properties\": {\n        \"dtype\": \"number\",\n        \"std\": null,\n        \"min\": 0.3587922385598828,\n        \"max\": 0.3587922385598828,\n        \"num_unique_values\": 1,\n        \"samples\": [\n          0.3587922385598828\n        ],\n        \"semantic_type\": \"\",\n        \"description\": \"\"\n      }\n    },\n    {\n      \"column\": \"HistGradientBoostingRegressor\",\n      \"properties\": {\n        \"dtype\": \"number\",\n        \"std\": null,\n        \"min\": 0.04487989174363933,\n        \"max\": 0.04487989174363933,\n        \"num_unique_values\": 1,\n        \"samples\": [\n          0.04487989174363933\n        ],\n        \"semantic_type\": \"\",\n        \"description\": \"\"\n      }\n    },\n    {\n      \"column\": \"SGP\",\n      \"properties\": {\n        \"dtype\": \"number\",\n        \"std\": null,\n        \"min\": 0.06272087521733927,\n        \"max\": 0.06272087521733927,\n        \"num_unique_values\": 1,\n        \"samples\": [\n          0.06272087521733927\n        ],\n        \"semantic_type\": \"\",\n        \"description\": \"\"\n      }\n    }\n  ]\n}"
            }
          },
          "metadata": {},
          "execution_count": 22
        }
      ]
    },
    {
      "cell_type": "markdown",
      "source": [
        "## Stochastic vargp"
      ],
      "metadata": {
        "id": "nhdP6Ct56sup"
      }
    },
    {
      "cell_type": "code",
      "source": [
        "class GPModel(ApproximateGP):\n",
        "    def __init__(self, inducing_points):\n",
        "        variational_distribution = CholeskyVariationalDistribution(inducing_points.size(0))\n",
        "        variational_strategy = VariationalStrategy(self, inducing_points, variational_distribution, learn_inducing_locations=True)\n",
        "        super(GPModel, self).__init__(variational_strategy)\n",
        "        self.mean_module = gpytorch.means.ConstantMean()\n",
        "        self.covar_module = gpytorch.kernels.ScaleKernel(gpytorch.kernels.RBFKernel()) # TODO: add InducingPointKernelAddedLossTerm\n",
        "\n",
        "    def forward(self, x):\n",
        "        mean_x = self.mean_module(x)\n",
        "        covar_x = self.covar_module(x)\n",
        "        return gpytorch.distributions.MultivariateNormal(mean_x, covar_x)\n",
        "\n",
        "inducing_points = X_train[:500, :]\n",
        "model = GPModel(inducing_points=inducing_points)\n",
        "likelihood = gpytorch.likelihoods.GaussianLikelihood()\n",
        "\n",
        "if torch.cuda.is_available():\n",
        "    model = model.cuda()\n",
        "    likelihood = likelihood.cuda()\n",
        "\n",
        "model.train()\n",
        "likelihood.train()\n",
        "\n",
        "optimizer = torch.optim.Adam([\n",
        "    {'params': model.parameters()},\n",
        "    {'params': likelihood.parameters()},\n",
        "], lr=0.01)\n",
        "mll = gpytorch.mlls.VariationalELBO(likelihood, model, num_data=y_train.size(0))\n",
        "losses = []\n",
        "n_epochs = 15\n",
        "for n in range(n_epochs):\n",
        "    for x_batch, y_batch in iter(train_loader):\n",
        "        optimizer.zero_grad()\n",
        "        output = model(x_batch)\n",
        "        loss = -mll(output, y_batch)\n",
        "        loss.backward()\n",
        "        optimizer.step()\n",
        "        losses.append(loss.item())\n",
        "\n",
        "model.eval()\n",
        "likelihood.eval()\n",
        "with torch.no_grad():\n",
        "    y_pred = likelihood(model(X_test)).mean\n",
        "print('Stochastic variational GP SMSE:', (((y_test-y_pred)**2).mean()/y_test.var()).item())\n",
        "plt.plot(losses)"
      ],
      "metadata": {
        "id": "OvCvyOmK2C2h"
      },
      "execution_count": null,
      "outputs": []
    },
    {
      "cell_type": "markdown",
      "source": [
        "## Cifar10 image reconstruction"
      ],
      "metadata": {
        "id": "4cZo9WFCmOVH"
      }
    },
    {
      "cell_type": "code",
      "source": [
        "from torchvision import transforms\n",
        "from torchvision.datasets import CIFAR10\n",
        "transform = transforms.Compose(\n",
        "    [transforms.ToTensor(),\n",
        "     transforms.Normalize((0.5, 0.5, 0.5), (0.5, 0.5, 0.5))])\n",
        "\n",
        "batch_size = 10\n",
        "\n",
        "cifar10_train = CIFAR10(root='./data', train=True, download=True, transform=transform)"
      ],
      "metadata": {
        "id": "3HJd5e5gVde9",
        "colab": {
          "base_uri": "https://localhost:8080/"
        },
        "outputId": "af0c2ddc-3fbe-41eb-e2ce-2496d7b58832"
      },
      "execution_count": null,
      "outputs": [
        {
          "output_type": "stream",
          "name": "stdout",
          "text": [
            "Downloading https://www.cs.toronto.edu/~kriz/cifar-10-python.tar.gz to ./data/cifar-10-python.tar.gz\n"
          ]
        },
        {
          "output_type": "stream",
          "name": "stderr",
          "text": [
            "100%|██████████| 170498071/170498071 [00:02<00:00, 71912020.01it/s]\n"
          ]
        },
        {
          "output_type": "stream",
          "name": "stdout",
          "text": [
            "Extracting ./data/cifar-10-python.tar.gz to ./data\n"
          ]
        }
      ]
    },
    {
      "cell_type": "code",
      "source": [
        "cifar10_trainloader = DataLoader(cifar10_train, batch_size=1024, shuffle=True)"
      ],
      "metadata": {
        "id": "xd-lsHzvihKQ"
      },
      "execution_count": null,
      "outputs": []
    },
    {
      "cell_type": "code",
      "source": [
        "def rgb2gray(u):\n",
        "    return 0.2989 * u[:,0] + 0.5870 * u[:,1] + 0.1140 * u[:,2]"
      ],
      "metadata": {
        "id": "kKQfa1pDn-KK"
      },
      "execution_count": null,
      "outputs": []
    },
    {
      "cell_type": "code",
      "source": [
        "X_train = None\n",
        "y_train = None\n",
        "for xb, yb in cifar10_trainloader:\n",
        "    y_ = rgb2gray(xb)\n",
        "    discard = torch.rand(y_.size()) < .5\n",
        "    if X_train is None:\n",
        "        y_train = y_.clone()\n",
        "        X_train = y_.clone()\n",
        "        X_train[discard] = 0\n",
        "    else:\n",
        "        y_train = torch.cat((y_train, y_), axis=0)\n",
        "        x_ = y_.clone()\n",
        "        x_[discard] = 0\n",
        "        X_train = torch.cat((X_train, x_), axis=0)"
      ],
      "metadata": {
        "id": "_v2PSohjiusw"
      },
      "execution_count": null,
      "outputs": []
    },
    {
      "cell_type": "code",
      "source": [
        "train_loader = DataLoader(TensorDataset(X_train, y_train), batch_size=5, shuffle=True)"
      ],
      "metadata": {
        "id": "nP6BwQCzy788"
      },
      "execution_count": null,
      "outputs": []
    },
    {
      "cell_type": "code",
      "source": [
        "class GPModelImg(ApproximateGP):\n",
        "    def __init__(self, inducing_points):\n",
        "        t = inducing_points.size(1)\n",
        "        variational_distribution = CholeskyVariationalDistribution(inducing_points.size(0))\n",
        "        variational_strategy = VariationalStrategy(self, inducing_points, variational_distribution, learn_inducing_locations=True)\n",
        "        super(GPModelImg, self).__init__(variational_strategy)\n",
        "        self.mean_module = gpytorch.means.MultitaskMean(\n",
        "            gpytorch.means.ConstantMean(), num_tasks=t\n",
        "        )\n",
        "        self.covar_module = gpytorch.kernels.MultitaskKernel(\n",
        "            gpytorch.kernels.RBFKernel(), num_tasks=t, rank=1\n",
        "        )\n",
        "    def forward(self, x):\n",
        "        mean_x = self.mean_module(x)\n",
        "        covar_x = self.covar_module(x)\n",
        "        return gpytorch.distributions.MultitaskMultivariateNormal(mean_x, covar_x)"
      ],
      "metadata": {
        "id": "d4y52432227K"
      },
      "execution_count": null,
      "outputs": []
    },
    {
      "cell_type": "code",
      "source": [
        "inducing_points = X_train[:50, :]\n",
        "model = GPModelImg(inducing_points=inducing_points.flatten(1))\n",
        "likelihood = gpytorch.likelihoods.MultitaskGaussianLikelihood(32*32)\n",
        "\n",
        "if torch.cuda.is_available():\n",
        "    model = model.cuda()\n",
        "    likelihood = likelihood.cuda()\n",
        "\n",
        "model.train()\n",
        "likelihood.train()\n",
        "\n",
        "optimizer = torch.optim.Adam([\n",
        "    {'params': model.parameters()},\n",
        "    {'params': likelihood.parameters()},\n",
        "], lr=0.005)\n",
        "mll = gpytorch.mlls.VariationalELBO(likelihood, model, num_data=y_train.size(0))\n",
        "losses = []\n",
        "n_epochs = 50\n",
        "for n in range(n_epochs):\n",
        "    for x_batch, y_batch in iter(train_loader):\n",
        "        optimizer.zero_grad()\n",
        "        print(x_batch.size())\n",
        "        output = model(x_batch.flatten(1))\n",
        "        loss = -mll(output, y_batch.flatten(1))\n",
        "        loss.backward()\n",
        "        optimizer.step()\n",
        "        losses.append(loss.item())\n",
        "plt.plot(losses)"
      ],
      "metadata": {
        "colab": {
          "base_uri": "https://localhost:8080/",
          "height": 790
        },
        "id": "5NoHrnRPv_7b",
        "outputId": "6e176e4e-5b4d-43c4-fba7-c42987b02a7c"
      },
      "execution_count": null,
      "outputs": [
        {
          "output_type": "stream",
          "name": "stdout",
          "text": [
            "torch.Size([5, 32, 32])\n"
          ]
        },
        {
          "output_type": "error",
          "ename": "RuntimeError",
          "evalue": "The size of tensor a (56270) must match the size of tensor b (974) at non-singleton dimension 1",
          "traceback": [
            "\u001b[0;31m---------------------------------------------------------------------------\u001b[0m",
            "\u001b[0;31mRuntimeError\u001b[0m                              Traceback (most recent call last)",
            "\u001b[0;32m<ipython-input-24-9061f558d20b>\u001b[0m in \u001b[0;36m<cell line: 19>\u001b[0;34m()\u001b[0m\n\u001b[1;32m     21\u001b[0m         \u001b[0moptimizer\u001b[0m\u001b[0;34m.\u001b[0m\u001b[0mzero_grad\u001b[0m\u001b[0;34m(\u001b[0m\u001b[0;34m)\u001b[0m\u001b[0;34m\u001b[0m\u001b[0;34m\u001b[0m\u001b[0m\n\u001b[1;32m     22\u001b[0m         \u001b[0mprint\u001b[0m\u001b[0;34m(\u001b[0m\u001b[0mx_batch\u001b[0m\u001b[0;34m.\u001b[0m\u001b[0msize\u001b[0m\u001b[0;34m(\u001b[0m\u001b[0;34m)\u001b[0m\u001b[0;34m)\u001b[0m\u001b[0;34m\u001b[0m\u001b[0;34m\u001b[0m\u001b[0m\n\u001b[0;32m---> 23\u001b[0;31m         \u001b[0moutput\u001b[0m \u001b[0;34m=\u001b[0m \u001b[0mmodel\u001b[0m\u001b[0;34m(\u001b[0m\u001b[0mx_batch\u001b[0m\u001b[0;34m.\u001b[0m\u001b[0mflatten\u001b[0m\u001b[0;34m(\u001b[0m\u001b[0;36m1\u001b[0m\u001b[0;34m)\u001b[0m\u001b[0;34m)\u001b[0m\u001b[0;34m\u001b[0m\u001b[0;34m\u001b[0m\u001b[0m\n\u001b[0m\u001b[1;32m     24\u001b[0m         \u001b[0mloss\u001b[0m \u001b[0;34m=\u001b[0m \u001b[0;34m-\u001b[0m\u001b[0mmll\u001b[0m\u001b[0;34m(\u001b[0m\u001b[0moutput\u001b[0m\u001b[0;34m,\u001b[0m \u001b[0my_batch\u001b[0m\u001b[0;34m.\u001b[0m\u001b[0mflatten\u001b[0m\u001b[0;34m(\u001b[0m\u001b[0;36m1\u001b[0m\u001b[0;34m)\u001b[0m\u001b[0;34m)\u001b[0m\u001b[0;34m\u001b[0m\u001b[0;34m\u001b[0m\u001b[0m\n\u001b[1;32m     25\u001b[0m         \u001b[0mloss\u001b[0m\u001b[0;34m.\u001b[0m\u001b[0mbackward\u001b[0m\u001b[0;34m(\u001b[0m\u001b[0;34m)\u001b[0m\u001b[0;34m\u001b[0m\u001b[0;34m\u001b[0m\u001b[0m\n",
            "\u001b[0;32m/usr/local/lib/python3.10/dist-packages/gpytorch/models/approximate_gp.py\u001b[0m in \u001b[0;36m__call__\u001b[0;34m(self, inputs, prior, **kwargs)\u001b[0m\n\u001b[1;32m    106\u001b[0m         \u001b[0;32mif\u001b[0m \u001b[0minputs\u001b[0m\u001b[0;34m.\u001b[0m\u001b[0mdim\u001b[0m\u001b[0;34m(\u001b[0m\u001b[0;34m)\u001b[0m \u001b[0;34m==\u001b[0m \u001b[0;36m1\u001b[0m\u001b[0;34m:\u001b[0m\u001b[0;34m\u001b[0m\u001b[0;34m\u001b[0m\u001b[0m\n\u001b[1;32m    107\u001b[0m             \u001b[0minputs\u001b[0m \u001b[0;34m=\u001b[0m \u001b[0minputs\u001b[0m\u001b[0;34m.\u001b[0m\u001b[0munsqueeze\u001b[0m\u001b[0;34m(\u001b[0m\u001b[0;34m-\u001b[0m\u001b[0;36m1\u001b[0m\u001b[0;34m)\u001b[0m\u001b[0;34m\u001b[0m\u001b[0;34m\u001b[0m\u001b[0m\n\u001b[0;32m--> 108\u001b[0;31m         \u001b[0;32mreturn\u001b[0m \u001b[0mself\u001b[0m\u001b[0;34m.\u001b[0m\u001b[0mvariational_strategy\u001b[0m\u001b[0;34m(\u001b[0m\u001b[0minputs\u001b[0m\u001b[0;34m,\u001b[0m \u001b[0mprior\u001b[0m\u001b[0;34m=\u001b[0m\u001b[0mprior\u001b[0m\u001b[0;34m,\u001b[0m \u001b[0;34m**\u001b[0m\u001b[0mkwargs\u001b[0m\u001b[0;34m)\u001b[0m\u001b[0;34m\u001b[0m\u001b[0;34m\u001b[0m\u001b[0m\n\u001b[0m",
            "\u001b[0;32m/usr/local/lib/python3.10/dist-packages/gpytorch/variational/variational_strategy.py\u001b[0m in \u001b[0;36m__call__\u001b[0;34m(self, x, prior, **kwargs)\u001b[0m\n\u001b[1;32m    270\u001b[0m                 \u001b[0mself\u001b[0m\u001b[0;34m.\u001b[0m\u001b[0mupdated_strategy\u001b[0m\u001b[0;34m.\u001b[0m\u001b[0mfill_\u001b[0m\u001b[0;34m(\u001b[0m\u001b[0;32mTrue\u001b[0m\u001b[0;34m)\u001b[0m\u001b[0;34m\u001b[0m\u001b[0;34m\u001b[0m\u001b[0m\n\u001b[1;32m    271\u001b[0m \u001b[0;34m\u001b[0m\u001b[0m\n\u001b[0;32m--> 272\u001b[0;31m         \u001b[0;32mreturn\u001b[0m \u001b[0msuper\u001b[0m\u001b[0;34m(\u001b[0m\u001b[0;34m)\u001b[0m\u001b[0;34m.\u001b[0m\u001b[0m__call__\u001b[0m\u001b[0;34m(\u001b[0m\u001b[0mx\u001b[0m\u001b[0;34m,\u001b[0m \u001b[0mprior\u001b[0m\u001b[0;34m=\u001b[0m\u001b[0mprior\u001b[0m\u001b[0;34m,\u001b[0m \u001b[0;34m**\u001b[0m\u001b[0mkwargs\u001b[0m\u001b[0;34m)\u001b[0m\u001b[0;34m\u001b[0m\u001b[0;34m\u001b[0m\u001b[0m\n\u001b[0m",
            "\u001b[0;32m/usr/local/lib/python3.10/dist-packages/gpytorch/variational/_variational_strategy.py\u001b[0m in \u001b[0;36m__call__\u001b[0;34m(self, x, prior, **kwargs)\u001b[0m\n\u001b[1;32m    339\u001b[0m         \u001b[0;31m# Get q(f)\u001b[0m\u001b[0;34m\u001b[0m\u001b[0;34m\u001b[0m\u001b[0m\n\u001b[1;32m    340\u001b[0m         \u001b[0;32mif\u001b[0m \u001b[0misinstance\u001b[0m\u001b[0;34m(\u001b[0m\u001b[0mvariational_dist_u\u001b[0m\u001b[0;34m,\u001b[0m \u001b[0mMultivariateNormal\u001b[0m\u001b[0;34m)\u001b[0m\u001b[0;34m:\u001b[0m\u001b[0;34m\u001b[0m\u001b[0;34m\u001b[0m\u001b[0m\n\u001b[0;32m--> 341\u001b[0;31m             return super().__call__(\n\u001b[0m\u001b[1;32m    342\u001b[0m                 \u001b[0mx\u001b[0m\u001b[0;34m,\u001b[0m\u001b[0;34m\u001b[0m\u001b[0;34m\u001b[0m\u001b[0m\n\u001b[1;32m    343\u001b[0m                 \u001b[0minducing_points\u001b[0m\u001b[0;34m,\u001b[0m\u001b[0;34m\u001b[0m\u001b[0;34m\u001b[0m\u001b[0m\n",
            "\u001b[0;32m/usr/local/lib/python3.10/dist-packages/gpytorch/module.py\u001b[0m in \u001b[0;36m__call__\u001b[0;34m(self, *inputs, **kwargs)\u001b[0m\n\u001b[1;32m     29\u001b[0m \u001b[0;34m\u001b[0m\u001b[0m\n\u001b[1;32m     30\u001b[0m     \u001b[0;32mdef\u001b[0m \u001b[0m__call__\u001b[0m\u001b[0;34m(\u001b[0m\u001b[0mself\u001b[0m\u001b[0;34m,\u001b[0m \u001b[0;34m*\u001b[0m\u001b[0minputs\u001b[0m\u001b[0;34m,\u001b[0m \u001b[0;34m**\u001b[0m\u001b[0mkwargs\u001b[0m\u001b[0;34m)\u001b[0m \u001b[0;34m->\u001b[0m \u001b[0mUnion\u001b[0m\u001b[0;34m[\u001b[0m\u001b[0mTensor\u001b[0m\u001b[0;34m,\u001b[0m \u001b[0mDistribution\u001b[0m\u001b[0;34m,\u001b[0m \u001b[0mLinearOperator\u001b[0m\u001b[0;34m]\u001b[0m\u001b[0;34m:\u001b[0m\u001b[0;34m\u001b[0m\u001b[0;34m\u001b[0m\u001b[0m\n\u001b[0;32m---> 31\u001b[0;31m         \u001b[0moutputs\u001b[0m \u001b[0;34m=\u001b[0m \u001b[0mself\u001b[0m\u001b[0;34m.\u001b[0m\u001b[0mforward\u001b[0m\u001b[0;34m(\u001b[0m\u001b[0;34m*\u001b[0m\u001b[0minputs\u001b[0m\u001b[0;34m,\u001b[0m \u001b[0;34m**\u001b[0m\u001b[0mkwargs\u001b[0m\u001b[0;34m)\u001b[0m\u001b[0;34m\u001b[0m\u001b[0;34m\u001b[0m\u001b[0m\n\u001b[0m\u001b[1;32m     32\u001b[0m         \u001b[0;32mif\u001b[0m \u001b[0misinstance\u001b[0m\u001b[0;34m(\u001b[0m\u001b[0moutputs\u001b[0m\u001b[0;34m,\u001b[0m \u001b[0mlist\u001b[0m\u001b[0;34m)\u001b[0m\u001b[0;34m:\u001b[0m\u001b[0;34m\u001b[0m\u001b[0;34m\u001b[0m\u001b[0m\n\u001b[1;32m     33\u001b[0m             \u001b[0;32mreturn\u001b[0m \u001b[0;34m[\u001b[0m\u001b[0m_validate_module_outputs\u001b[0m\u001b[0;34m(\u001b[0m\u001b[0moutput\u001b[0m\u001b[0;34m)\u001b[0m \u001b[0;32mfor\u001b[0m \u001b[0moutput\u001b[0m \u001b[0;32min\u001b[0m \u001b[0moutputs\u001b[0m\u001b[0;34m]\u001b[0m\u001b[0;34m\u001b[0m\u001b[0;34m\u001b[0m\u001b[0m\n",
            "\u001b[0;32m/usr/local/lib/python3.10/dist-packages/gpytorch/variational/variational_strategy.py\u001b[0m in \u001b[0;36mforward\u001b[0;34m(self, x, inducing_points, inducing_values, variational_inducing_covar, **kwargs)\u001b[0m\n\u001b[1;32m    214\u001b[0m         \u001b[0;31m# Compute the mean of q(f)\u001b[0m\u001b[0;34m\u001b[0m\u001b[0;34m\u001b[0m\u001b[0m\n\u001b[1;32m    215\u001b[0m         \u001b[0;31m# k_XZ K_ZZ^{-1/2} (m - K_ZZ^{-1/2} \\mu_Z) + \\mu_X\u001b[0m\u001b[0;34m\u001b[0m\u001b[0;34m\u001b[0m\u001b[0m\n\u001b[0;32m--> 216\u001b[0;31m         \u001b[0mpredictive_mean\u001b[0m \u001b[0;34m=\u001b[0m \u001b[0;34m(\u001b[0m\u001b[0minterp_term\u001b[0m\u001b[0;34m.\u001b[0m\u001b[0mtranspose\u001b[0m\u001b[0;34m(\u001b[0m\u001b[0;34m-\u001b[0m\u001b[0;36m1\u001b[0m\u001b[0;34m,\u001b[0m \u001b[0;34m-\u001b[0m\u001b[0;36m2\u001b[0m\u001b[0;34m)\u001b[0m \u001b[0;34m@\u001b[0m \u001b[0minducing_values\u001b[0m\u001b[0;34m.\u001b[0m\u001b[0munsqueeze\u001b[0m\u001b[0;34m(\u001b[0m\u001b[0;34m-\u001b[0m\u001b[0;36m1\u001b[0m\u001b[0;34m)\u001b[0m\u001b[0;34m)\u001b[0m\u001b[0;34m.\u001b[0m\u001b[0msqueeze\u001b[0m\u001b[0;34m(\u001b[0m\u001b[0;34m-\u001b[0m\u001b[0;36m1\u001b[0m\u001b[0;34m)\u001b[0m \u001b[0;34m+\u001b[0m \u001b[0mtest_mean\u001b[0m\u001b[0;34m\u001b[0m\u001b[0;34m\u001b[0m\u001b[0m\n\u001b[0m\u001b[1;32m    217\u001b[0m \u001b[0;34m\u001b[0m\u001b[0m\n\u001b[1;32m    218\u001b[0m         \u001b[0;31m# Compute the covariance of q(f)\u001b[0m\u001b[0;34m\u001b[0m\u001b[0;34m\u001b[0m\u001b[0m\n",
            "\u001b[0;31mRuntimeError\u001b[0m: The size of tensor a (56270) must match the size of tensor b (974) at non-singleton dimension 1"
          ]
        }
      ]
    },
    {
      "cell_type": "code",
      "source": [
        "X_train.size()"
      ],
      "metadata": {
        "colab": {
          "base_uri": "https://localhost:8080/"
        },
        "id": "6FMB1flJwt7b",
        "outputId": "daee0909-7b31-4096-c3ce-36b112f85d0b"
      },
      "execution_count": null,
      "outputs": [
        {
          "output_type": "execute_result",
          "data": {
            "text/plain": [
              "torch.Size([50000, 32, 32])"
            ]
          },
          "metadata": {},
          "execution_count": 20
        }
      ]
    }
  ]
}